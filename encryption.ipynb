{
 "cells": [
  {
   "cell_type": "markdown",
   "metadata": {},
   "source": [
    "# [Seismic] Data Encryption\n",
    "This notebook paves the way for the 52 Things You Should Know About Geocomputing: [Seismic] Data Encryption chapter. Since we'll be encrypting and decrypting things in this notebook, we'll always use the same password:\n",
    "\n",
    "> is 52 ytpeienncr iTghsn kye. oru hTsi\n",
    "\n",
    "Strong passwords are long passwords. Strength is added when the number of possible symbols increases, hence the punctuation and capitals in our password. Mixing up letters and words reduces the possibility of attack by [dictionary methods](http://web.cs.du.edu/~mitchell/forensics/information/pass_crack.html). Just start with a sentence like \"*This is our 52 Things encryption key.*\" Jumble up the letters and words from there.\n",
    "\n",
    "By the way, in the event you're storing your password on a computer (or a GitHub repo), never store it in *plaintext*. That is to say, don't just make a Google Document containing all your passwords. Anyone who gains access to the document (like this one) would now have your password (like the above). There's a process called hashing a password, which we'll now do using a simple Jupyter tool."
   ]
  },
  {
   "cell_type": "code",
   "execution_count": 5,
   "metadata": {
    "collapsed": true
   },
   "outputs": [],
   "source": [
    "from notebook.auth import passwd"
   ]
  },
  {
   "cell_type": "code",
   "execution_count": 6,
   "metadata": {
    "collapsed": false
   },
   "outputs": [
    {
     "name": "stdout",
     "output_type": "stream",
     "text": [
      "Enter password: ········\n",
      "Verify password: ········\n"
     ]
    },
    {
     "data": {
      "text/plain": [
       "'sha1:9d1c863860bf:a012763baa888852196bca1308a613060775dced'"
      ]
     },
     "execution_count": 6,
     "metadata": {},
     "output_type": "execute_result"
    }
   ],
   "source": [
    "passwd()"
   ]
  },
  {
   "cell_type": "markdown",
   "metadata": {},
   "source": [
    "And that's it. This hash was built using SHA1, which is now trivially breakable. Python has some other awesome tools to perform hashing if you need realistically strong hashes ([with salt](https://en.wikipedia.org/wiki/Salt_(cryptography), etc.). Again, for the remainder of this notebook we'll use the above password in its plaintext form. I only mentioned hashing to get your wheels turning."
   ]
  },
  {
   "cell_type": "markdown",
   "metadata": {},
   "source": [
    "## Load seismic data into an array"
   ]
  },
  {
   "cell_type": "markdown",
   "metadata": {},
   "source": [
    "The file we're loading is located in this repo under the `data` folder. I've already stripped a segy file down into and array of binary floats, so we don't require any special seismic manipulation tools. The array is of size 390 x 276.\n",
    "\n",
    "**The seismic data used in this publication was obtained from [RMOTC and the U.S. Department of Energy](https://energy.gov/node/1012461/datasets.html) via the [SEG](http://wiki.seg.org/wiki/Teapot_dome_3D_survey).**\n",
    "\n",
    "First we grab Numpy and set our size:"
   ]
  },
  {
   "cell_type": "code",
   "execution_count": 1,
   "metadata": {
    "collapsed": true
   },
   "outputs": [],
   "source": [
    "import numpy as np\n",
    "ntr = 390\n",
    "ns  = 276"
   ]
  },
  {
   "cell_type": "markdown",
   "metadata": {},
   "source": [
    "Then we build an array"
   ]
  },
  {
   "cell_type": "code",
   "execution_count": 2,
   "metadata": {
    "collapsed": true
   },
   "outputs": [],
   "source": [
    "plain = np.zeros((ns, ntr))"
   ]
  },
  {
   "cell_type": "markdown",
   "metadata": {},
   "source": [
    "and populate it with samples"
   ]
  },
  {
   "cell_type": "code",
   "execution_count": 3,
   "metadata": {
    "collapsed": true
   },
   "outputs": [],
   "source": [
    "import struct"
   ]
  },
  {
   "cell_type": "code",
   "execution_count": 45,
   "metadata": {
    "collapsed": false
   },
   "outputs": [],
   "source": [
    "with open('data/seis.bin', 'rb') as f:\n",
    "    for i in range(ntr):\n",
    "        for j in range(ns):\n",
    "            plain[j,i] = struct.unpack('f', f.read(4))[0]"
   ]
  },
  {
   "cell_type": "code",
   "execution_count": 46,
   "metadata": {
    "collapsed": false
   },
   "outputs": [
    {
     "data": {
      "text/plain": [
       "array([[-1.38086128, -0.21255744,  0.9470343 , ...,  0.        ,\n",
       "         0.        ,  0.        ],\n",
       "       [-0.42914444, -1.05706978,  0.4341805 , ...,  0.        ,\n",
       "         0.        ,  0.        ],\n",
       "       [ 0.47521216, -1.32831097, -0.51862544, ...,  0.        ,\n",
       "         0.        ,  0.        ],\n",
       "       ..., \n",
       "       [ 0.70241845, -0.71246099,  0.32470572, ...,  0.77774131,\n",
       "         0.9578312 ,  1.27509594],\n",
       "       [ 1.23244572, -0.31836051,  0.38788235, ...,  0.91880769,\n",
       "         1.03834724,  1.12439156],\n",
       "       [ 1.27404213,  0.36220556,  0.31871891, ...,  0.67931896,\n",
       "         0.57988262,  0.35961753]])"
      ]
     },
     "execution_count": 46,
     "metadata": {},
     "output_type": "execute_result"
    }
   ],
   "source": [
    "plain"
   ]
  },
  {
   "cell_type": "markdown",
   "metadata": {},
   "source": [
    "## Display seismic data"
   ]
  },
  {
   "cell_type": "code",
   "execution_count": 41,
   "metadata": {
    "collapsed": true
   },
   "outputs": [],
   "source": [
    "import matplotlib.pyplot as plt"
   ]
  },
  {
   "cell_type": "code",
   "execution_count": 47,
   "metadata": {
    "collapsed": false
   },
   "outputs": [],
   "source": [
    "plt.imshow(plain, cmap=\"gray\")\n",
    "plt.show()"
   ]
  },
  {
   "cell_type": "markdown",
   "metadata": {},
   "source": [
    "## Encrypt seismic data"
   ]
  },
  {
   "cell_type": "code",
   "execution_count": 3,
   "metadata": {
    "collapsed": false
   },
   "outputs": [
    {
     "name": "stdout",
     "output_type": "stream",
     "text": [
      "total 36K\r\n",
      "drwxrwxr-x  6 gram gram 4.0K Apr 29 10:34 .\r\n",
      "drwxr-xr-x 73 gram gram 4.0K Apr 30 14:58 ..\r\n",
      "drwxrwxr-x  2 gram gram 4.0K Apr 29 10:28 data\r\n",
      "drwxrwxr-x  2 gram gram 4.0K Apr 29 09:21 drafts\r\n",
      "drwxrwxr-x  8 gram gram 4.0K Apr 29 10:35 .git\r\n",
      "drwxr-xr-x  2 gram gram 4.0K Apr 29 10:30 .ipynb_checkpoints\r\n",
      "-rw-rw-r--  1 gram gram 1.1K Apr 21 15:00 LICENSE\r\n",
      "-rw-rw-r--  1 gram gram  328 Apr 29 09:33 README.md\r\n",
      "-rw-rw-r--  1 gram gram 1.3K Apr 29 10:34 seismic encryption.ipynb\r\n"
     ]
    }
   ],
   "source": [
    "!ls -lah"
   ]
  }
 ],
 "metadata": {
  "kernelspec": {
   "display_name": "Python 3",
   "language": "python",
   "name": "python3"
  },
  "language_info": {
   "codemirror_mode": {
    "name": "ipython",
    "version": 3
   },
   "file_extension": ".py",
   "mimetype": "text/x-python",
   "name": "python",
   "nbconvert_exporter": "python",
   "pygments_lexer": "ipython3",
   "version": "3.5.1"
  }
 },
 "nbformat": 4,
 "nbformat_minor": 1
}
